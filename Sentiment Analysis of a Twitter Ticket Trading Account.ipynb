{
 "cells": [
  {
   "cell_type": "markdown",
   "id": "1c3bdce0",
   "metadata": {},
   "source": [
    "# Sentiment Analysis of a Twitter Ticket Trading Account"
   ]
  },
  {
   "cell_type": "markdown",
   "id": "29afce59",
   "metadata": {},
   "source": [
    "## Import libraries"
   ]
  },
  {
   "cell_type": "code",
   "execution_count": 44,
   "id": "46fd9f7a",
   "metadata": {},
   "outputs": [],
   "source": [
    "import tweepy\n",
    "import json\n",
    "import requests\n",
    "from requests_oauthlib import OAuth1\n",
    "from vaderSentiment.vaderSentiment import SentimentIntensityAnalyzer\n",
    "import pandas as pd\n",
    "import matplotlib.pyplot as plt\n",
    "\n",
    "#References\n",
    "#https://huggingface.co/blog/sentiment-analysis-python\n",
    "#https://www.analyticsvidhya.com/blog/2022/07/sentiment-analysis-using-python/"
   ]
  },
  {
   "cell_type": "markdown",
   "id": "1b9ee8ae",
   "metadata": {},
   "source": [
    "## Set up authentication credentials"
   ]
  },
  {
   "cell_type": "code",
   "execution_count": 45,
   "id": "714773a2",
   "metadata": {},
   "outputs": [],
   "source": [
    "api_key = 'my_api_key'\n",
    "api_key_secret = 'my_api_key_secret'\n",
    "\n",
    "access_key = 'my_access_key'\n",
    "access_key_token = 'my_access_key_token'\n",
    "\n",
    "auth = OAuth1(api_key, api_key_secret, access_key, access_key_token)"
   ]
  },
  {
   "cell_type": "markdown",
   "id": "4ae3c1fa",
   "metadata": {},
   "source": [
    "## Get data"
   ]
  },
  {
   "cell_type": "code",
   "execution_count": 46,
   "id": "f2167224",
   "metadata": {},
   "outputs": [],
   "source": [
    "full_url='https://api.twitter.com/1.1/statuses/user_timeline.json?screen_name=875tickets&count=200'\n",
    "\n",
    "r = requests.get(full_url, auth=auth)"
   ]
  },
  {
   "cell_type": "markdown",
   "id": "e1d8b013",
   "metadata": {},
   "source": [
    "## Initialize and test sentiment classifier"
   ]
  },
  {
   "cell_type": "code",
   "execution_count": 47,
   "id": "0c9107ed",
   "metadata": {},
   "outputs": [
    {
     "name": "stdout",
     "output_type": "stream",
     "text": [
      "Results for text 1: {'neg': 0.0, 'neu': 0.5, 'pos': 0.5, 'compound': 0.7906}\n",
      "Results for text 2: {'neg': 0.232, 'neu': 0.768, 'pos': 0.0, 'compound': -0.2755}\n",
      "Results for text 3: {'neg': 0.0, 'neu': 0.312, 'pos': 0.688, 'compound': 0.296}\n",
      "Results for text 4: {'neg': 0.787, 'neu': 0.213, 'pos': 0.0, 'compound': -0.5719}\n",
      "Results for text 5: {'neg': 0.0, 'neu': 1.0, 'pos': 0.0, 'compound': 0.0}\n"
     ]
    }
   ],
   "source": [
    "sentiment = SentimentIntensityAnalyzer()\n",
    "\n",
    "text_1 = \"The movie was funny and the acting was great.\"\n",
    "text_2 =  \"I didn't like the food at that restaurant.\"\n",
    "text_3 = 'Scammer alert.'\n",
    "text_4 = 'Ticket scam.'\n",
    "text_5 = \"I got scammed.\"\n",
    "\n",
    "sent_1 = sentiment.polarity_scores(text_1)\n",
    "sent_2 = sentiment.polarity_scores(text_2)\n",
    "sent_3 = sentiment.polarity_scores(text_3)\n",
    "sent_4 = sentiment.polarity_scores(text_4)\n",
    "sent_5 = sentiment.polarity_scores(text_5)\n",
    "\n",
    "print(\"Results for text 1:\", sent_1)\n",
    "print(\"Results for text 2:\", sent_2)\n",
    "print(\"Results for text 3:\", sent_3)\n",
    "print(\"Results for text 4:\", sent_4)\n",
    "print(\"Results for text 5:\", sent_5)"
   ]
  },
  {
   "cell_type": "markdown",
   "id": "7e7f2005",
   "metadata": {},
   "source": [
    "## Classify text from individual tweets"
   ]
  },
  {
   "cell_type": "code",
   "execution_count": 48,
   "id": "84198355",
   "metadata": {},
   "outputs": [],
   "source": [
    "# Initialize lists and counter\n",
    "tweet_list = []\n",
    "tweets_result = []\n",
    "cnt = 0\n",
    "\n",
    "#Loop over each tweet to classify\n",
    "for tweet in r.json():\n",
    "        \n",
    "    tweet_list.append(tweet['text'])\n",
    "    cnt = cnt + 1\n",
    "    content = tweet['text']\n",
    "    sent = sentiment.polarity_scores(content)\n",
    "    tweets_result.append({'tweet': content, 'sentiment_data': sent, 'final_sentiment':sent['compound']})\n",
    "\n",
    "#Uncomment next line to print data in json format\n",
    "#print(json.dumps(tweets_result, indent=2))\n",
    "\n",
    "#Use print(tweet['text']) after initializing for loop to print individual tweets"
   ]
  },
  {
   "cell_type": "markdown",
   "id": "ba343eba",
   "metadata": {},
   "source": [
    "## Organize and visualize results"
   ]
  },
  {
   "cell_type": "code",
   "execution_count": 49,
   "id": "3dba8ec3",
   "metadata": {},
   "outputs": [
    {
     "data": {
      "image/png": "[encoded data removed]",
      "text/plain": [
       "<Figure size 600x600 with 1 Axes>"
      ]
     },
     "metadata": {},
     "output_type": "display_data"
    }
   ],
   "source": [
    "# Loading the data in a dataframe\n",
    "df = pd.DataFrame(tweets_result)\n",
    "\n",
    "#Extracting sentiment data and score\n",
    "tweets = [x for x in df['tweet']]\n",
    "sent_data = [x for x in df['sentiment_data']]\n",
    "sent_final = [x for x in df['final_sentiment']]\n",
    "\n",
    "#Initializing counters\n",
    "cnt_neg = 0\n",
    "cnt_neu = 0\n",
    "cnt_pos = 0\n",
    "\n",
    "#Assigning sentiment based on compound score\n",
    "for i in range(len(sent_final)):\n",
    "    if 'SCAMMER ALERT' in tweets[i]:\n",
    "        cnt_neg = cnt_neg + 1\n",
    "    elif sent_final[i] <= -0.333:\n",
    "        cnt_neg = cnt_neg + 1\n",
    "    elif sent_final[i] < 0.333 and sent_final[i] > -0.333:\n",
    "        cnt_neu = cnt_neu + 1\n",
    "    elif sent_final[i] >= 0.333:\n",
    "        cnt_pos = cnt_pos + 1      \n",
    "\n",
    "#Setting up sentiment dictionary and series\n",
    "sentiment_overall = {'Negative': cnt_neg, 'Neutral': cnt_neu, 'Positive': cnt_pos}\n",
    "sentiment = pd.Series(sentiment_overall)\n",
    "\n",
    "# Visualizing the sentiments\n",
    "fig = plt.figure(figsize=(6,6), dpi=100);\n",
    "ax = plt.subplot(111);\n",
    "sentiment.plot.pie(ax=ax, autopct='%1.1f%%', startangle=270, fontsize=12, label=\"\", colors=['lightseagreen', 'cornflowerblue', 'sandybrown']);"
   ]
  },
  {
   "cell_type": "code",
   "execution_count": null,
   "id": "1eeaa0db",
   "metadata": {},
   "outputs": [],
   "source": []
  }
 ],
 "metadata": {
  "kernelspec": {
   "display_name": "Python 3 (ipykernel)",
   "language": "python",
   "name": "python3"
  },
  "language_info": {
   "codemirror_mode": {
    "name": "ipython",
    "version": 3
   },
   "file_extension": ".py",
   "mimetype": "text/x-python",
   "name": "python",
   "nbconvert_exporter": "python",
   "pygments_lexer": "ipython3",
   "version": "3.11.0"
  }
 },
 "nbformat": 4,
 "nbformat_minor": 5
}
